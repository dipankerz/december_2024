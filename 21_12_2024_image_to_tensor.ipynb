{
  "nbformat": 4,
  "nbformat_minor": 0,
  "metadata": {
    "colab": {
      "provenance": [],
      "authorship_tag": "ABX9TyO20HPA0s7KM21abeOMnren",
      "include_colab_link": true
    },
    "kernelspec": {
      "name": "python3",
      "display_name": "Python 3"
    },
    "language_info": {
      "name": "python"
    }
  },
  "cells": [
    {
      "cell_type": "markdown",
      "metadata": {
        "id": "view-in-github",
        "colab_type": "text"
      },
      "source": [
        "<a href=\"https://colab.research.google.com/github/dipankerz/december_2024/blob/main/21_12_2024_image_to_tensor.ipynb\" target=\"_parent\"><img src=\"https://colab.research.google.com/assets/colab-badge.svg\" alt=\"Open In Colab\"/></a>"
      ]
    },
    {
      "cell_type": "code",
      "execution_count": null,
      "metadata": {
        "id": "Hy6AH5IaNssC"
      },
      "outputs": [],
      "source": [
        "#drag some image to the file"
      ]
    },
    {
      "cell_type": "code",
      "source": [
        "# prompt: from torchvision.transforms import ToTensor\n",
        "# from PIL import Image\n",
        "# import these .../content/download.jpg\n",
        "\n",
        "from torchvision.transforms import ToTensor\n",
        "from PIL import Image\n",
        "\n",
        "try:\n",
        "  img = Image.open('/content/download.jpg')\n",
        "  img_tensor = ToTensor()(img)\n",
        "  print(\"Image loaded and converted to tensor successfully!\")\n",
        "  # Now you can work with img_tensor\n",
        "except FileNotFoundError:\n",
        "  print(\"Error: Image file not found at /content/download.jpg. Please upload or make sure the path is correct.\")\n",
        "except Exception as e:\n",
        "  print(f\"An error occurred: {e}\")"
      ],
      "metadata": {
        "colab": {
          "base_uri": "https://localhost:8080/"
        },
        "id": "rOQC08XwOOR0",
        "outputId": "bd2add01-0f1c-40f5-fc5d-57a86b1e82bb"
      },
      "execution_count": 1,
      "outputs": [
        {
          "output_type": "stream",
          "name": "stdout",
          "text": [
            "Image loaded and converted to tensor successfully!\n"
          ]
        }
      ]
    },
    {
      "cell_type": "code",
      "source": [
        "# prompt: check the shape of the tensor\n",
        "\n",
        "img_tensor.shape\n"
      ],
      "metadata": {
        "colab": {
          "base_uri": "https://localhost:8080/"
        },
        "id": "wi0PnQ6NOyaR",
        "outputId": "d697784d-ce90-4595-e5c6-71c499addfcd"
      },
      "execution_count": 3,
      "outputs": [
        {
          "output_type": "execute_result",
          "data": {
            "text/plain": [
              "torch.Size([3, 182, 277])"
            ]
          },
          "metadata": {},
          "execution_count": 3
        }
      ]
    },
    {
      "cell_type": "code",
      "source": [
        "# prompt: now convert that image into tensor using tensor flow\n",
        "\n",
        "import tensorflow as tf\n",
        "from PIL import Image\n",
        "\n",
        "try:\n",
        "  img = Image.open('/content/download.jpg')\n",
        "  img_tensor = tf.convert_to_tensor(img)\n",
        "  print(\"Image loaded and converted to tensor successfully!\")\n",
        "  # Now you can work with img_tensor\n",
        "except FileNotFoundError:\n",
        "  print(\"Error: Image file not found at /content/download.jpg. Please upload or make sure the path is correct.\")\n",
        "except Exception as e:\n",
        "  print(f\"An error occurred: {e}\")\n",
        "\n",
        "img_tensor.shape\n"
      ],
      "metadata": {
        "colab": {
          "base_uri": "https://localhost:8080/"
        },
        "id": "92ISZRZyPgmN",
        "outputId": "033012d1-3ba2-4633-e6fb-09df34589c01"
      },
      "execution_count": 4,
      "outputs": [
        {
          "output_type": "stream",
          "name": "stdout",
          "text": [
            "Image loaded and converted to tensor successfully!\n"
          ]
        },
        {
          "output_type": "execute_result",
          "data": {
            "text/plain": [
              "TensorShape([182, 277, 3])"
            ]
          },
          "metadata": {},
          "execution_count": 4
        }
      ]
    },
    {
      "cell_type": "code",
      "source": [
        "resized_tensor = tf.image.resize(img_tensor, [224, 224])  # Resize to 224x224\n"
      ],
      "metadata": {
        "id": "j251Wr5RQEJq"
      },
      "execution_count": 7,
      "outputs": []
    },
    {
      "cell_type": "code",
      "source": [
        "img_tensor.shape"
      ],
      "metadata": {
        "colab": {
          "base_uri": "https://localhost:8080/"
        },
        "id": "bRzoEiGUQfeg",
        "outputId": "8672dbba-442d-432c-c840-ebc90b8f47f3"
      },
      "execution_count": 8,
      "outputs": [
        {
          "output_type": "execute_result",
          "data": {
            "text/plain": [
              "TensorShape([182, 277, 3])"
            ]
          },
          "metadata": {},
          "execution_count": 8
        }
      ]
    },
    {
      "cell_type": "code",
      "source": [
        "resized_tensor.shape"
      ],
      "metadata": {
        "colab": {
          "base_uri": "https://localhost:8080/"
        },
        "id": "zEWdIse2QowL",
        "outputId": "d582673d-cd0f-4af6-d116-5369544bb9f5"
      },
      "execution_count": 10,
      "outputs": [
        {
          "output_type": "execute_result",
          "data": {
            "text/plain": [
              "TensorShape([224, 224, 3])"
            ]
          },
          "metadata": {},
          "execution_count": 10
        }
      ]
    },
    {
      "cell_type": "code",
      "source": [],
      "metadata": {
        "id": "mFqfnuvaQrE0"
      },
      "execution_count": null,
      "outputs": []
    }
  ]
}